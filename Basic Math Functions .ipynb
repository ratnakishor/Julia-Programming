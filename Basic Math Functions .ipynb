{
 "cells": [
  {
   "cell_type": "markdown",
   "metadata": {},
   "source": [
    "<h1 style = \"color:Brown\">Basic Mathematical Functions</h1>"
   ]
  },
  {
   "cell_type": "markdown",
   "metadata": {},
   "source": [
    "<h3 style = \"color:Purple\">rounded_num = round(num)</h3>"
   ]
  },
  {
   "cell_type": "code",
   "execution_count": 3,
   "metadata": {},
   "outputs": [
    {
     "name": "stdout",
     "output_type": "stream",
     "text": [
      "3.0\n",
      "4.0\n",
      "4.0\n"
     ]
    }
   ],
   "source": [
    "println(round(3.2))\n",
    "\n",
    "println(round(3.5))\n",
    "\n",
    "println(round(3.6))"
   ]
  },
  {
   "cell_type": "markdown",
   "metadata": {},
   "source": [
    "<h3 style = \"color:Purple\">rounded_num = round(type, num)</h3>"
   ]
  },
  {
   "cell_type": "code",
   "execution_count": 5,
   "metadata": {},
   "outputs": [
    {
     "name": "stdout",
     "output_type": "stream",
     "text": [
      "78 Int64\n",
      "56 UInt32\n"
     ]
    }
   ],
   "source": [
    "n1 = round(Int, 77.6)\n",
    "println(n1, ' ', typeof(n1))\n",
    "\n",
    "n2 = round(UInt32, 56.276)\n",
    "println(n2, ' ', typeof(n2))"
   ]
  },
  {
   "cell_type": "markdown",
   "metadata": {},
   "source": [
    "<h3 style = \"color:Purple\">rounded_num = round(num, digits = number_of_digits)</h3>"
   ]
  },
  {
   "cell_type": "code",
   "execution_count": 7,
   "metadata": {},
   "outputs": [
    {
     "name": "stdout",
     "output_type": "stream",
     "text": [
      "6.283185307179586\n",
      "6.28\n"
     ]
    }
   ],
   "source": [
    "n3 = 2π\n",
    "println(n3)\n",
    "println(round(n3, digits = 2)) "
   ]
  },
  {
   "cell_type": "markdown",
   "metadata": {},
   "source": [
    "<h3 style = \"color:Purple\">rounded_num = floor([type], num)</h3>\n",
    "\n",
    "<h3 style = \"color:Purple\">rounded_num = ceil([type], num)</h3>"
   ]
  },
  {
   "cell_type": "code",
   "execution_count": 9,
   "metadata": {},
   "outputs": [
    {
     "name": "stdout",
     "output_type": "stream",
     "text": [
      "3.0\n",
      "4.0\n"
     ]
    }
   ],
   "source": [
    "println(floor(3.45))\n",
    "\n",
    "println(ceil(3.45))"
   ]
  },
  {
   "cell_type": "markdown",
   "metadata": {},
   "source": [
    "<h3 style = \"color:Purple\">absolute_value = abs(num)</h3>\n",
    "\n",
    "<h3 style = \"color:Purple\">squared_absolute_value = abs2(num)</h3>"
   ]
  },
  {
   "cell_type": "code",
   "execution_count": 12,
   "metadata": {},
   "outputs": [
    {
     "name": "stdout",
     "output_type": "stream",
     "text": [
      "4\n",
      "4\n",
      "5.0\n"
     ]
    }
   ],
   "source": [
    "println(abs(4))\n",
    "\n",
    "println(abs(-4))\n",
    "\n",
    "println(abs(3+4im))"
   ]
  },
  {
   "cell_type": "code",
   "execution_count": 13,
   "metadata": {},
   "outputs": [
    {
     "name": "stdout",
     "output_type": "stream",
     "text": [
      "25\n"
     ]
    }
   ],
   "source": [
    "println(abs2(3+4im))"
   ]
  },
  {
   "cell_type": "markdown",
   "metadata": {},
   "source": [
    "<h3 style = \"color:Purple\">value = sign(num)</h3>"
   ]
  },
  {
   "cell_type": "code",
   "execution_count": 15,
   "metadata": {},
   "outputs": [
    {
     "name": "stdout",
     "output_type": "stream",
     "text": [
      "0\n",
      "-1\n",
      "1\n"
     ]
    }
   ],
   "source": [
    "println(sign(0))\n",
    "\n",
    "println(sign(-30))\n",
    "\n",
    "println(sign(30))"
   ]
  },
  {
   "cell_type": "markdown",
   "metadata": {},
   "source": [
    "<h3 style = \"color:Purple\">lcm_value = lcm(num1, num2, ...)</h3>\n",
    "\n",
    "<h3 style = \"color:Purple\">gcd_value = gcd(num1, num2, ...)</h3>"
   ]
  },
  {
   "cell_type": "code",
   "execution_count": 16,
   "metadata": {},
   "outputs": [
    {
     "name": "stdout",
     "output_type": "stream",
     "text": [
      "30\n"
     ]
    }
   ],
   "source": [
    "println(lcm(3, 5, 6))"
   ]
  },
  {
   "cell_type": "code",
   "execution_count": 17,
   "metadata": {},
   "outputs": [
    {
     "name": "stdout",
     "output_type": "stream",
     "text": [
      "5\n"
     ]
    }
   ],
   "source": [
    "println(gcd(5, 30, 45))"
   ]
  },
  {
   "cell_type": "markdown",
   "metadata": {},
   "source": [
    "<h3 style = \"color:Purple\">result = sqrt(num)</h3>"
   ]
  },
  {
   "cell_type": "code",
   "execution_count": 19,
   "metadata": {},
   "outputs": [
    {
     "name": "stdout",
     "output_type": "stream",
     "text": [
      "3.0\n",
      "3.0\n"
     ]
    }
   ],
   "source": [
    "println(sqrt(9))\n",
    "\n",
    "println(√9)"
   ]
  },
  {
   "cell_type": "markdown",
   "metadata": {},
   "source": [
    "<h3 style = \"color:Purple\">result = cbrt(num)</h3>"
   ]
  },
  {
   "cell_type": "code",
   "execution_count": 21,
   "metadata": {},
   "outputs": [
    {
     "name": "stdout",
     "output_type": "stream",
     "text": [
      "2.0\n",
      "2.0"
     ]
    }
   ],
   "source": [
    "println(cbrt(8))\n",
    "\n",
    "print(∛8)"
   ]
  },
  {
   "cell_type": "markdown",
   "metadata": {},
   "source": [
    "<h3 style = \"color:Purple\">exponent = exp(num)</h3>\n",
    "\n",
    "<h3 style = \"color:Purple\">exponent = exp2(num)</h3>\n",
    "\n",
    "<h3 style = \"color:Purple\">exponent = exp10(num)</h3>"
   ]
  },
  {
   "cell_type": "code",
   "execution_count": 24,
   "metadata": {},
   "outputs": [
    {
     "name": "stdout",
     "output_type": "stream",
     "text": [
      "1.0\n",
      "8.0\n",
      "1000.0\n"
     ]
    }
   ],
   "source": [
    "println(exp(0))\n",
    "\n",
    "println(exp2(3))\n",
    "\n",
    "println(exp10(3))"
   ]
  },
  {
   "cell_type": "markdown",
   "metadata": {},
   "source": [
    "<h3 style = \"color:Purple\">loge_value = log(num)</h3>\n",
    "\n",
    "<h3 style = \"color:Purple\">log2_value = log2(num)</h3>\n",
    "\n",
    "<h3 style = \"color:Purple\">log10_value = log10(num)</h3>"
   ]
  },
  {
   "cell_type": "code",
   "execution_count": 27,
   "metadata": {},
   "outputs": [
    {
     "name": "stdout",
     "output_type": "stream",
     "text": [
      "1.0000802576038383\n",
      "3.0\n",
      "2.0\n"
     ]
    }
   ],
   "source": [
    "println(log(2.7185))\n",
    "\n",
    "println(log2(8))\n",
    "\n",
    "println(log10(100))"
   ]
  },
  {
   "cell_type": "markdown",
   "metadata": {},
   "source": [
    "<h3 style = \"color:Purple\">radians = deg2rad(degrees)</h3>\n",
    "\n",
    "\n",
    "<h3 style = \"color:Purple\">degrees = rad2deg(radians)</h3>"
   ]
  },
  {
   "cell_type": "code",
   "execution_count": 29,
   "metadata": {},
   "outputs": [
    {
     "name": "stdout",
     "output_type": "stream",
     "text": [
      "3.141592653589793\n",
      "179.9087476710785\n"
     ]
    }
   ],
   "source": [
    "println(deg2rad(180))\n",
    "\n",
    "println(rad2deg(3.14))"
   ]
  },
  {
   "cell_type": "markdown",
   "metadata": {},
   "source": [
    "<h3 style = \"color:Purple\">Trigonometric Functions</h3>\n",
    "\n",
    "\n",
    "* sin(), cos(), tan(), cot(), sec(), csc()\n",
    "\n",
    "\n",
    "* sind(), cosd(), tand(), cotd(), secd(), cscd()"
   ]
  },
  {
   "cell_type": "code",
   "execution_count": 30,
   "metadata": {},
   "outputs": [
    {
     "name": "stdout",
     "output_type": "stream",
     "text": [
      "0.0015926529164868282\n",
      "-0.9999987317275395\n",
      "-0.001592654936407223\n"
     ]
    }
   ],
   "source": [
    "println(sin(3.14))\n",
    "\n",
    "println(cos(3.14))\n",
    "\n",
    "println(tan(3.14))"
   ]
  },
  {
   "cell_type": "code",
   "execution_count": 31,
   "metadata": {},
   "outputs": [
    {
     "name": "stdout",
     "output_type": "stream",
     "text": [
      "0.0\n",
      "-1.0\n",
      "-0.0\n"
     ]
    }
   ],
   "source": [
    "println(sind(180))\n",
    "\n",
    "println(cosd(180))\n",
    "\n",
    "println(tand(180))"
   ]
  },
  {
   "cell_type": "markdown",
   "metadata": {},
   "source": [
    "<h3 style = \"color:Purple\">Inverse Trigonometric Functions</h3>\n",
    "\n",
    "\n",
    "* asin(), acos(), atan(), acot(), asec(), acsc()\n",
    "\n",
    "\n",
    "* asind(), acosd(), atand(), acotd(), asecd(), acscd()"
   ]
  },
  {
   "cell_type": "code",
   "execution_count": 32,
   "metadata": {},
   "outputs": [
    {
     "name": "stdout",
     "output_type": "stream",
     "text": [
      "90.0\n",
      "0.0\n",
      "45.0\n"
     ]
    }
   ],
   "source": [
    "println(asind(1))\n",
    "\n",
    "println(acosd(1))\n",
    "\n",
    "println(atand(1))"
   ]
  },
  {
   "cell_type": "markdown",
   "metadata": {},
   "source": [
    "<h3 style = \"color:Purple\">Hyperbolic Functions</h3>\n",
    "\n",
    "\n",
    "* sinh(), cosh(), tanh(), coth(), sech(), csch()\n",
    "\n",
    "\n",
    "* asinh(), acosh(), atanh(), acoth(), asech(), acsch()"
   ]
  },
  {
   "cell_type": "code",
   "execution_count": 34,
   "metadata": {},
   "outputs": [
    {
     "name": "stdout",
     "output_type": "stream",
     "text": [
      "1.1752011936438014\n",
      "1.1752011936438014\n"
     ]
    }
   ],
   "source": [
    "println(sinh(1))\n",
    "\n",
    "println((exp(1) - exp(-1))/2)"
   ]
  },
  {
   "cell_type": "code",
   "execution_count": 35,
   "metadata": {},
   "outputs": [
    {
     "name": "stdout",
     "output_type": "stream",
     "text": [
      "1.5430806348152437\n",
      "1.5430806348152437\n"
     ]
    }
   ],
   "source": [
    "println(cosh(1))\n",
    "\n",
    "println((exp(1) + exp(-1))/2)"
   ]
  },
  {
   "cell_type": "code",
   "execution_count": 36,
   "metadata": {},
   "outputs": [
    {
     "name": "stdout",
     "output_type": "stream",
     "text": [
      "0.7615941559557649\n",
      "0.7615941559557649\n"
     ]
    }
   ],
   "source": [
    "println(tanh(1))\n",
    "\n",
    "println((exp(1) - exp(-1))/(exp(1) + exp(-1)))"
   ]
  },
  {
   "cell_type": "markdown",
   "metadata": {},
   "source": [
    "<h3 style = \"color:Purple\">result = factorial(num)</h3>"
   ]
  },
  {
   "cell_type": "code",
   "execution_count": 38,
   "metadata": {},
   "outputs": [
    {
     "name": "stdout",
     "output_type": "stream",
     "text": [
      "120\n",
      "1\n"
     ]
    }
   ],
   "source": [
    "println(factorial(5))\n",
    "\n",
    "println(factorial(0))"
   ]
  },
  {
   "cell_type": "markdown",
   "metadata": {},
   "source": [
    "<h3 style = \"color:Purple\">result = eval(expression)</h3>"
   ]
  },
  {
   "cell_type": "code",
   "execution_count": 39,
   "metadata": {},
   "outputs": [
    {
     "data": {
      "text/plain": [
       "22"
      ]
     },
     "execution_count": 39,
     "metadata": {},
     "output_type": "execute_result"
    }
   ],
   "source": [
    "x  = 2\n",
    "\n",
    "eval(3x^2 + 4x + 2 )"
   ]
  },
  {
   "cell_type": "code",
   "execution_count": null,
   "metadata": {},
   "outputs": [],
   "source": []
  }
 ],
 "metadata": {
  "kernelspec": {
   "display_name": "Julia 1.6.1",
   "language": "julia",
   "name": "julia-1.6"
  },
  "language_info": {
   "file_extension": ".jl",
   "mimetype": "application/julia",
   "name": "julia",
   "version": "1.6.1"
  }
 },
 "nbformat": 4,
 "nbformat_minor": 4
}
